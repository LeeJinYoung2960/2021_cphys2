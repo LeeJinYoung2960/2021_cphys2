{
 "cells": [
  {
   "cell_type": "markdown",
   "metadata": {},
   "source": [
    "# OR\n",
    "* 단층 perceptron을 이용하여 다음의 데이터를 분류하여라."
   ]
  },
  {
   "cell_type": "code",
   "execution_count": 1,
   "metadata": {},
   "outputs": [],
   "source": [
    "import numpy as np\n",
    "import matplotlib.pyplot as plt"
   ]
  },
  {
   "cell_type": "code",
   "execution_count": 2,
   "metadata": {},
   "outputs": [],
   "source": [
    "X = [[0,0],[1,0],[0,1],[1,1]]\n",
    "Y = [0,1,1,1]"
   ]
  },
  {
   "cell_type": "code",
   "execution_count": 3,
   "metadata": {},
   "outputs": [],
   "source": [
    "w, b=[0,0], 0\n",
    "eta = 0.1"
   ]
  },
  {
   "cell_type": "code",
   "execution_count": 4,
   "metadata": {},
   "outputs": [],
   "source": [
    "def perc(x):\n",
    "    f=np.dot(w,x)+b\n",
    "    if f>=0:\n",
    "        return 1\n",
    "    else:\n",
    "        return 0"
   ]
  },
  {
   "cell_type": "code",
   "execution_count": 5,
   "metadata": {},
   "outputs": [
    {
     "data": {
      "text/plain": [
       "([0.1, 0.1], -0.1)"
      ]
     },
     "execution_count": 5,
     "metadata": {},
     "output_type": "execute_result"
    }
   ],
   "source": [
    "for n in range(1000):\n",
    "    for i in range(4):\n",
    "        error = Y[i]- perc(X[i])\n",
    "        w[0] = w[0] + eta * error * X[i][0]\n",
    "        w[1] = w[1] + eta * error * X[i][1]\n",
    "        b = b + eta * error\n",
    "    \n",
    "w,b"
   ]
  },
  {
   "cell_type": "code",
   "execution_count": 6,
   "metadata": {},
   "outputs": [
    {
     "data": {
      "text/plain": [
       "(0, 1, 1, 1)"
      ]
     },
     "execution_count": 6,
     "metadata": {},
     "output_type": "execute_result"
    }
   ],
   "source": [
    "perc(X[0]),perc(X[1]),perc(X[2]),perc(X[3])"
   ]
  },
  {
   "cell_type": "markdown",
   "metadata": {},
   "source": [
    "# Iris classifications\n",
    "* 단층 perceptron을 이용하여 다음의 데이터를 분류하여라.\n",
    "* 위의 데이터를 단층 perceptron을 이용하여 분류하는 신경망을 만들고 학습하여라.\n",
    "* 입력층의 노드는 바이어스를 제외하고 4개로 한다. 바이어스 1개를 포함 총 5개이다.\n",
    "* 출력층의 노드는 1개로 한다."
   ]
  },
  {
   "cell_type": "code",
   "execution_count": 7,
   "metadata": {},
   "outputs": [
    {
     "data": {
      "text/plain": [
       "['sepal length (cm)',\n",
       " 'sepal width (cm)',\n",
       " 'petal length (cm)',\n",
       " 'petal width (cm)']"
      ]
     },
     "execution_count": 7,
     "metadata": {},
     "output_type": "execute_result"
    }
   ],
   "source": [
    "from sklearn import datasets\n",
    "iris = datasets.load_iris() # 분꽃\n",
    "iris.target_names # 3종류의 분꽃 분류하기\n",
    "iris.feature_names # features"
   ]
  },
  {
   "cell_type": "code",
   "execution_count": 8,
   "metadata": {},
   "outputs": [],
   "source": [
    "X=iris.data # input data # the number of input nodes = 4"
   ]
  },
  {
   "cell_type": "code",
   "execution_count": 9,
   "metadata": {},
   "outputs": [
    {
     "data": {
      "text/plain": [
       "array(['setosa', 'versicolor', 'virginica'], dtype='<U10')"
      ]
     },
     "execution_count": 9,
     "metadata": {},
     "output_type": "execute_result"
    }
   ],
   "source": [
    "iris.target_names # setosa = 0, not setosa = 1"
   ]
  },
  {
   "cell_type": "code",
   "execution_count": 10,
   "metadata": {},
   "outputs": [],
   "source": [
    "Y=np.where(iris.target>0,1,0) # 0(setosa) 과 1(setosa 외) 로 분류"
   ]
  },
  {
   "cell_type": "code",
   "execution_count": 11,
   "metadata": {},
   "outputs": [],
   "source": [
    "w,b=[0,0,0,0],1\n",
    "eta=0.1"
   ]
  },
  {
   "cell_type": "code",
   "execution_count": 12,
   "metadata": {},
   "outputs": [
    {
     "data": {
      "text/plain": [
       "([-0.19999999999999973, -0.7, 1.0500000000000003, 0.42999999999999994], 0.8)"
      ]
     },
     "execution_count": 12,
     "metadata": {},
     "output_type": "execute_result"
    }
   ],
   "source": [
    "for n in range(1000):\n",
    "\n",
    "    for i in range(len(X)):\n",
    "        error = Y[i]- perc(X[i])\n",
    "\n",
    "        \n",
    "        w[0] = w[0] + eta * error * X[i][0]\n",
    "        w[1] = w[1] + eta * error * X[i][1]\n",
    "        w[2] = w[2] + eta * error * X[i][2]\n",
    "        w[3] = w[3] + eta * error * X[i][3]\n",
    "        b = b + eta * error\n",
    "w,b"
   ]
  },
  {
   "cell_type": "code",
   "execution_count": 13,
   "metadata": {},
   "outputs": [],
   "source": [
    "perc_f=[]\n",
    "for a in range(len(X)):\n",
    "    perc_f.append(perc(X[a]))"
   ]
  },
  {
   "cell_type": "code",
   "execution_count": 14,
   "metadata": {},
   "outputs": [
    {
     "data": {
      "text/plain": [
       "True"
      ]
     },
     "execution_count": 14,
     "metadata": {},
     "output_type": "execute_result"
    }
   ],
   "source": [
    "np.array_equal(perc_f,Y)"
   ]
  }
 ],
 "metadata": {
  "kernelspec": {
   "display_name": "Python 3",
   "language": "python",
   "name": "python3"
  },
  "language_info": {
   "codemirror_mode": {
    "name": "ipython",
    "version": 3
   },
   "file_extension": ".py",
   "mimetype": "text/x-python",
   "name": "python",
   "nbconvert_exporter": "python",
   "pygments_lexer": "ipython3",
   "version": "3.8.5"
  }
 },
 "nbformat": 4,
 "nbformat_minor": 4
}
